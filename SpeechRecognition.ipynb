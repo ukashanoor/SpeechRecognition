{
  "nbformat": 4,
  "nbformat_minor": 0,
  "metadata": {
    "colab": {
      "provenance": []
    },
    "kernelspec": {
      "name": "python3",
      "display_name": "Python 3"
    },
    "language_info": {
      "name": "python"
    }
  },
  "cells": [
    {
      "cell_type": "markdown",
      "source": [
        "**Install and Import Dependenies**"
      ],
      "metadata": {
        "id": "VYS9tK0eO3br"
      }
    },
    {
      "cell_type": "code",
      "execution_count": null,
      "metadata": {
        "id": "ZCGOOybuIx94"
      },
      "outputs": [],
      "source": [
        "!pip install matplotlib tensorflow tensorflow-io tensorflow-gpu "
      ]
    },
    {
      "cell_type": "markdown",
      "source": [
        "Tensorflow-io is install for audio processing"
      ],
      "metadata": {
        "id": "bCSt-n3MQ5JL"
      }
    },
    {
      "cell_type": "code",
      "source": [
        "from matplotlib import pyplot as plt\n",
        "import tensorflow_io as tfio\n",
        "import os\n",
        "import tensorflow as tf "
      ],
      "metadata": {
        "id": "ZugK55tAO1pM"
      },
      "execution_count": 4,
      "outputs": []
    },
    {
      "cell_type": "markdown",
      "source": [
        "How paths are defined\n",
        "<br>CB -> Cappuchin Bird\n",
        "<br>NCB -> Non Cappuchin Bird\n",
        "<br> Change the file path according to user need."
      ],
      "metadata": {
        "id": "j_bkWyRuSAJi"
      }
    },
    {
      "cell_type": "code",
      "source": [
        "positive_label_path = '/content/Data/PCB'\n",
        "negative_label_path = '/content/Data/PNCB'"
      ],
      "metadata": {
        "id": "bxfsh3VXdfZN"
      },
      "execution_count": 35,
      "outputs": []
    },
    {
      "cell_type": "code",
      "source": [
        "File_CB = os.path.join(positive_label_path, 'XC114131-1.wav')\n",
        "File_NCB = os.path.join(negative_label_path,'Crickets-chirping-0.wav')"
      ],
      "metadata": {
        "id": "IpZzdWMARpdq"
      },
      "execution_count": 36,
      "outputs": []
    },
    {
      "cell_type": "markdown",
      "source": [
        "Processing Audio to convert it into 16hz single-channel"
      ],
      "metadata": {
        "id": "3FfbzFH6TAsR"
      }
    },
    {
      "cell_type": "code",
      "source": [
        "def wave_processing(filepath):\n",
        "  content = tf.io.read_file(filepath)\n",
        "  wave, sr = tf.audio.decode_wav(content, desired_channels=1)\n",
        "  wave = tf.squeeze(wave, axis=-1)\n",
        "  sr = tf.cast(sr, dtype=tf.int64)\n",
        "  wave = tfio.audio.resample(wave, rate_in=sr, rate_out=16000)\n",
        "  return wave"
      ],
      "metadata": {
        "id": "hRGbRuU0SbIs"
      },
      "execution_count": 15,
      "outputs": []
    },
    {
      "cell_type": "markdown",
      "source": [
        "Sample waves from dataset provided"
      ],
      "metadata": {
        "id": "Ys9iIJ_EWON_"
      }
    },
    {
      "cell_type": "code",
      "source": [
        "sample1 = wave_processing(File_CB)\n",
        "sample2 = wave_processing(File_NCB)"
      ],
      "metadata": {
        "id": "I4e9oMfJWNPg"
      },
      "execution_count": 37,
      "outputs": []
    },
    {
      "cell_type": "code",
      "source": [
        "print(sample1)"
      ],
      "metadata": {
        "colab": {
          "base_uri": "https://localhost:8080/"
        },
        "id": "w2DQwix3Wmq9",
        "outputId": "13c2783c-d3de-42ee-e66d-5cc8ac47d19e"
      },
      "execution_count": 38,
      "outputs": [
        {
          "output_type": "stream",
          "name": "stdout",
          "text": [
            "tf.Tensor(\n",
            "[-2.38103937e-08 -1.19024826e-08 -6.48144649e-08 ... -5.84699772e-03\n",
            "  6.84118923e-03 -6.73171133e-03], shape=(48000,), dtype=float32)\n"
          ]
        }
      ]
    },
    {
      "cell_type": "code",
      "source": [
        "plt.figure(1)\n",
        "plt.plot(sample1)\n",
        "plt.plot(sample2)\n",
        "plt.show()"
      ],
      "metadata": {
        "colab": {
          "base_uri": "https://localhost:8080/",
          "height": 265
        },
        "id": "zUmF2jocX7OT",
        "outputId": "77682a35-867b-4e28-d554-3460afb8d057"
      },
      "execution_count": 18,
      "outputs": [
        {
          "output_type": "display_data",
          "data": {
            "text/plain": [
              "<Figure size 432x288 with 1 Axes>"
            ],
            "image/png": "[encoded data removed]"
          },
          "metadata": {
            "needs_background": "light"
          }
        }
      ]
    },
    {
      "cell_type": "markdown",
      "source": [
        "**Make Sound dataset**<br>\n",
        "We will define filepaths for positive and negative data"
      ],
      "metadata": {
        "id": "fjfQcuY7Yxl-"
      }
    },
    {
      "cell_type": "code",
      "source": [
        "positive_files = tf.data.Dataset.list_files(positive_label_path+'/*.wav')\n",
        "negative_files = tf.data.Dataset.list_files(negative_label_path+'/*.wav')"
      ],
      "metadata": {
        "id": "3h6AneveZ0yL"
      },
      "execution_count": 28,
      "outputs": []
    },
    {
      "cell_type": "code",
      "source": [
        "positive_files.as_numpy_iterator().next()"
      ],
      "metadata": {
        "colab": {
          "base_uri": "https://localhost:8080/"
        },
        "id": "GmGZa10oaXm-",
        "outputId": "d71a7648-d774-4261-e62e-6ec5467745d1"
      },
      "execution_count": 29,
      "outputs": [
        {
          "output_type": "execute_result",
          "data": {
            "text/plain": [
              "b'/content/Data/PCB/XC216012-11.wav'"
            ]
          },
          "metadata": {},
          "execution_count": 29
        }
      ]
    },
    {
      "cell_type": "markdown",
      "source": [
        "Provide positive and negative labels for all the dataset files and combine the samples"
      ],
      "metadata": {
        "id": "lX0C91hva_9W"
      }
    },
    {
      "cell_type": "code",
      "source": [
        "positive_label = tf.data.Dataset.zip((positive_files, tf.data.Dataset.from_tensor_slices(tf.ones(len(positive_files)))))\n",
        "negative_label = tf.data.Dataset.zip((negative_files, tf.data.Dataset.from_tensor_slices(tf.ones(len(negative_files)))))\n",
        "dataset = positive_label.concatenate(negative_label)"
      ],
      "metadata": {
        "id": "s13FNGi0aaTl"
      },
      "execution_count": 32,
      "outputs": []
    },
    {
      "cell_type": "code",
      "source": [
        "len(dataset)"
      ],
      "metadata": {
        "colab": {
          "base_uri": "https://localhost:8080/"
        },
        "id": "n0g2cbTbcXwS",
        "outputId": "16be5e0b-cc2f-4e9e-ea49-e2e3ffa26bf2"
      },
      "execution_count": 34,
      "outputs": [
        {
          "output_type": "execute_result",
          "data": {
            "text/plain": [
              "810"
            ]
          },
          "metadata": {},
          "execution_count": 34
        }
      ]
    },
    {
      "cell_type": "markdown",
      "source": [
        "Calculate how long is the average Capuchin bird call"
      ],
      "metadata": {
        "id": "g7SajigXdVd_"
      }
    },
    {
      "cell_type": "code",
      "source": [
        "call_length = []\n",
        "for ele in os.listdir(positive_label_path):\n",
        "  wave = wave_processing(os.path.join(positive_label_path, ele))\n",
        "  call_length.append(len(wave))"
      ],
      "metadata": {
        "id": "GmZ5vKBQdUuM"
      },
      "execution_count": 39,
      "outputs": []
    },
    {
      "cell_type": "code",
      "source": [
        "len(call_length)"
      ],
      "metadata": {
        "colab": {
          "base_uri": "https://localhost:8080/"
        },
        "id": "MDR88AVlfSh1",
        "outputId": "d9e5378d-fa3d-423f-8cd3-5cee6ce08a2c"
      },
      "execution_count": 41,
      "outputs": [
        {
          "output_type": "execute_result",
          "data": {
            "text/plain": [
              "217"
            ]
          },
          "metadata": {},
          "execution_count": 41
        }
      ]
    },
    {
      "cell_type": "markdown",
      "source": [
        "Determine Max, Min, and Mean length of call"
      ],
      "metadata": {
        "id": "VG8yI748f9Hx"
      }
    },
    {
      "cell_type": "code",
      "source": [
        "print('Max Length: ', tf.math.reduce_max(call_length))\n",
        "print('Min Length: ', tf.math.reduce_min(call_length))\n",
        "print('Mean Length: ', tf.math.reduce_mean(call_length))"
      ],
      "metadata": {
        "colab": {
          "base_uri": "https://localhost:8080/"
        },
        "id": "8eCEtrGxf83z",
        "outputId": "e0f26a5d-197c-4a20-ab09-a8a6d7b22771"
      },
      "execution_count": 45,
      "outputs": [
        {
          "output_type": "stream",
          "name": "stdout",
          "text": [
            "Max Length:  tf.Tensor(80000, shape=(), dtype=int32)\n",
            "Min Length:  tf.Tensor(32000, shape=(), dtype=int32)\n",
            "Mean Length:  tf.Tensor(54156, shape=(), dtype=int32)\n"
          ]
        }
      ]
    },
    {
      "cell_type": "markdown",
      "source": [],
      "metadata": {
        "id": "4Lpa7DNjjNke"
      }
    },
    {
      "cell_type": "code",
      "source": [],
      "metadata": {
        "id": "dVpCJPbrg1NO"
      },
      "execution_count": null,
      "outputs": []
    }
  ]
}